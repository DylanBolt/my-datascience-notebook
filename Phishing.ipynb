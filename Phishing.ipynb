{
 "cells": [
  {
   "cell_type": "markdown",
   "id": "ce5e6a12",
   "metadata": {},
   "source": [
    "# Business / Problem Understanding\n",
    "\n",
    "\n",
    "Phishing URLs are submited to PhishTank. They are classified by the \"community\" as being actual phishes or not. Therefore, we have a classification task.\n",
    "\n",
    "What features could we use to predict valid from invalid phishes using ML?\n",
    "\n",
    "\n",
    "We can find some valid phishes on PhishTank: https://phishtank.org/phish_search.php?valid=y&active=All&Search=Search\n",
    "\n",
    "\n",
    "\n",
    "Here are some examples of valid phishes:\n",
    "- https://help-recovery-identity-support-international.web.id/confirmid.php\n",
    "- https://234565676868--3456556757.repl.co/\n",
    "\n",
    "\n",
    "Let's look at this one:\n",
    "\n",
    "- https://help-recovery-identity-support-international.web.id/confirmid.php\n",
    "\n",
    "We can break it into its URL pieces:\n",
    "\n",
    "-PATH: /confirmid.php\n",
    "  *\"Is it a .php?\"\n",
    "      -binary feature\n",
    "  *\"How long is the path?\"\n",
    "      -contiuous integer \n",
    "  *\"How many unique characters in the path?\"\n",
    "  \n",
    "\n",
    "-DOMAIN: help-recovery-identity-support-international.web.id\n",
    "  *text analytics, are there certain substrings that are giveaways of a phish?\n",
    "  *Is readable?\n",
    "  *Is there a top-level domain that is not the last entry in the list?\n",
    "  *Count of subdomains?\n",
    "-PROTOCOL: https://\n",
    "\n",
    "\n",
    "# Download and unzip\n",
    "\n",
    "comment out to run"
   ]
  },
  {
   "cell_type": "code",
   "execution_count": 40,
   "id": "5637b027-b040-4b05-9e16-51149872ef35",
   "metadata": {},
   "outputs": [],
   "source": [
    "import pandas as pd\n",
    "from sklearn import tree\n",
    "import eli5"
   ]
  },
  {
   "cell_type": "code",
   "execution_count": 4,
   "id": "f16927de",
   "metadata": {},
   "outputs": [
    {
     "name": "stdout",
     "output_type": "stream",
     "text": [
      "--2022-02-04 18:42:29--  https://research.aalto.fi/files/16859732/urlset.csv.zip\n",
      "Resolving research.aalto.fi (research.aalto.fi)... 34.253.178.11, 34.248.98.230\n",
      "Connecting to research.aalto.fi (research.aalto.fi)|34.253.178.11|:443... connected.\n",
      "HTTP request sent, awaiting response... 302 302\n",
      "Location: https://acris.aalto.fi/ws/portalfiles/portal/16859732/urlset.csv.zip [following]\n",
      "--2022-02-04 18:42:30--  https://acris.aalto.fi/ws/portalfiles/portal/16859732/urlset.csv.zip\n",
      "Resolving acris.aalto.fi (acris.aalto.fi)... 130.233.208.8\n",
      "Connecting to acris.aalto.fi (acris.aalto.fi)|130.233.208.8|:443... connected.\n",
      "HTTP request sent, awaiting response... 200 200\n",
      "Length: unspecified [multipart/x-zip]\n",
      "Saving to: ‘dataset.zip’\n",
      "\n",
      "dataset.zip             [             <=>    ]   3.24M   905KB/s    in 3.7s    \n",
      "\n",
      "2022-02-04 18:42:35 (905 KB/s) - ‘dataset.zip’ saved [3400239]\n",
      "\n"
     ]
    }
   ],
   "source": [
    "#!wget 'https://research.aalto.fi/files/16859732/urlset.csv.zip' -O 'dataset.zip'"
   ]
  },
  {
   "cell_type": "code",
   "execution_count": 5,
   "id": "a8cd6114-73e7-43ef-b73c-d35d4a2e0e13",
   "metadata": {},
   "outputs": [
    {
     "name": "stdout",
     "output_type": "stream",
     "text": [
      "Archive:  dataset.zip\n",
      "  inflating: urlset.csv              \n"
     ]
    }
   ],
   "source": [
    "#!unzip 'dataset.zip'"
   ]
  },
  {
   "cell_type": "code",
   "execution_count": 14,
   "id": "5bdf8c56-3e35-428c-ab37-042ba50940a7",
   "metadata": {},
   "outputs": [
    {
     "name": "stderr",
     "output_type": "stream",
     "text": [
      "/tmp/ipykernel_89/2482881911.py:1: DtypeWarning: Columns (1,2,3,11,12) have mixed types. Specify dtype option on import or set low_memory=False.\n",
      "  df = pd.read_csv('urlset.csv', on_bad_lines = 'skip',  encoding_errors = 'ignore')\n"
     ]
    }
   ],
   "source": [
    "df = pd.read_csv('urlset.csv', on_bad_lines = 'skip',  encoding_errors = 'ignore')"
   ]
  },
  {
   "cell_type": "code",
   "execution_count": 15,
   "id": "a68a39a1-ce3d-42d0-b399-71079d7d1c80",
   "metadata": {},
   "outputs": [
    {
     "data": {
      "text/html": [
       "<div>\n",
       "<style scoped>\n",
       "    .dataframe tbody tr th:only-of-type {\n",
       "        vertical-align: middle;\n",
       "    }\n",
       "\n",
       "    .dataframe tbody tr th {\n",
       "        vertical-align: top;\n",
       "    }\n",
       "\n",
       "    .dataframe thead th {\n",
       "        text-align: right;\n",
       "    }\n",
       "</style>\n",
       "<table border=\"1\" class=\"dataframe\">\n",
       "  <thead>\n",
       "    <tr style=\"text-align: right;\">\n",
       "      <th></th>\n",
       "      <th>domain</th>\n",
       "      <th>ranking</th>\n",
       "      <th>mld_res</th>\n",
       "      <th>mld.ps_res</th>\n",
       "      <th>card_rem</th>\n",
       "      <th>ratio_Rrem</th>\n",
       "      <th>ratio_Arem</th>\n",
       "      <th>jaccard_RR</th>\n",
       "      <th>jaccard_RA</th>\n",
       "      <th>jaccard_AR</th>\n",
       "      <th>jaccard_AA</th>\n",
       "      <th>jaccard_ARrd</th>\n",
       "      <th>jaccard_ARrem</th>\n",
       "      <th>label</th>\n",
       "    </tr>\n",
       "  </thead>\n",
       "  <tbody>\n",
       "    <tr>\n",
       "      <th>0</th>\n",
       "      <td>nobell.it/70ffb52d079109dca5664cce6f317373782/...</td>\n",
       "      <td>10000000</td>\n",
       "      <td>1.0</td>\n",
       "      <td>0.0</td>\n",
       "      <td>18.0</td>\n",
       "      <td>107.611111</td>\n",
       "      <td>107.277778</td>\n",
       "      <td>0.0</td>\n",
       "      <td>0.0</td>\n",
       "      <td>0.0</td>\n",
       "      <td>0.0</td>\n",
       "      <td>0.8</td>\n",
       "      <td>0.795729</td>\n",
       "      <td>1.0</td>\n",
       "    </tr>\n",
       "    <tr>\n",
       "      <th>1</th>\n",
       "      <td>www.dghjdgf.com/paypal.co.uk/cycgi-bin/webscrc...</td>\n",
       "      <td>10000000</td>\n",
       "      <td>0.0</td>\n",
       "      <td>0.0</td>\n",
       "      <td>11.0</td>\n",
       "      <td>150.636364</td>\n",
       "      <td>152.272727</td>\n",
       "      <td>0.0</td>\n",
       "      <td>0.0</td>\n",
       "      <td>0.0</td>\n",
       "      <td>0.0</td>\n",
       "      <td>0</td>\n",
       "      <td>0.768577</td>\n",
       "      <td>1.0</td>\n",
       "    </tr>\n",
       "    <tr>\n",
       "      <th>2</th>\n",
       "      <td>serviciosbys.com/paypal.cgi.bin.get-into.herf....</td>\n",
       "      <td>10000000</td>\n",
       "      <td>0.0</td>\n",
       "      <td>0.0</td>\n",
       "      <td>14.0</td>\n",
       "      <td>73.500000</td>\n",
       "      <td>72.642857</td>\n",
       "      <td>0.0</td>\n",
       "      <td>0.0</td>\n",
       "      <td>0.0</td>\n",
       "      <td>0.0</td>\n",
       "      <td>0</td>\n",
       "      <td>0.726582</td>\n",
       "      <td>1.0</td>\n",
       "    </tr>\n",
       "    <tr>\n",
       "      <th>3</th>\n",
       "      <td>mail.printakid.com/www.online.americanexpress....</td>\n",
       "      <td>10000000</td>\n",
       "      <td>0.0</td>\n",
       "      <td>0.0</td>\n",
       "      <td>6.0</td>\n",
       "      <td>562.000000</td>\n",
       "      <td>590.666667</td>\n",
       "      <td>0.0</td>\n",
       "      <td>0.0</td>\n",
       "      <td>0.0</td>\n",
       "      <td>0.0</td>\n",
       "      <td>0</td>\n",
       "      <td>0.85964</td>\n",
       "      <td>1.0</td>\n",
       "    </tr>\n",
       "    <tr>\n",
       "      <th>4</th>\n",
       "      <td>thewhiskeydregs.com/wp-content/themes/widescre...</td>\n",
       "      <td>10000000</td>\n",
       "      <td>0.0</td>\n",
       "      <td>0.0</td>\n",
       "      <td>8.0</td>\n",
       "      <td>29.000000</td>\n",
       "      <td>24.125000</td>\n",
       "      <td>0.0</td>\n",
       "      <td>0.0</td>\n",
       "      <td>0.0</td>\n",
       "      <td>0.0</td>\n",
       "      <td>0</td>\n",
       "      <td>0.748971</td>\n",
       "      <td>1.0</td>\n",
       "    </tr>\n",
       "  </tbody>\n",
       "</table>\n",
       "</div>"
      ],
      "text/plain": [
       "                                              domain   ranking mld_res  \\\n",
       "0  nobell.it/70ffb52d079109dca5664cce6f317373782/...  10000000     1.0   \n",
       "1  www.dghjdgf.com/paypal.co.uk/cycgi-bin/webscrc...  10000000     0.0   \n",
       "2  serviciosbys.com/paypal.cgi.bin.get-into.herf....  10000000     0.0   \n",
       "3  mail.printakid.com/www.online.americanexpress....  10000000     0.0   \n",
       "4  thewhiskeydregs.com/wp-content/themes/widescre...  10000000     0.0   \n",
       "\n",
       "  mld.ps_res  card_rem  ratio_Rrem  ratio_Arem  jaccard_RR  jaccard_RA  \\\n",
       "0        0.0      18.0  107.611111  107.277778         0.0         0.0   \n",
       "1        0.0      11.0  150.636364  152.272727         0.0         0.0   \n",
       "2        0.0      14.0   73.500000   72.642857         0.0         0.0   \n",
       "3        0.0       6.0  562.000000  590.666667         0.0         0.0   \n",
       "4        0.0       8.0   29.000000   24.125000         0.0         0.0   \n",
       "\n",
       "   jaccard_AR  jaccard_AA jaccard_ARrd jaccard_ARrem  label  \n",
       "0         0.0         0.0          0.8      0.795729    1.0  \n",
       "1         0.0         0.0            0      0.768577    1.0  \n",
       "2         0.0         0.0            0      0.726582    1.0  \n",
       "3         0.0         0.0            0       0.85964    1.0  \n",
       "4         0.0         0.0            0      0.748971    1.0  "
      ]
     },
     "execution_count": 15,
     "metadata": {},
     "output_type": "execute_result"
    }
   ],
   "source": [
    "df.head()"
   ]
  },
  {
   "cell_type": "code",
   "execution_count": 16,
   "id": "9db0a9b2-d1a6-4299-b49d-149bbfa497f3",
   "metadata": {},
   "outputs": [
    {
     "data": {
      "text/html": [
       "<div>\n",
       "<style scoped>\n",
       "    .dataframe tbody tr th:only-of-type {\n",
       "        vertical-align: middle;\n",
       "    }\n",
       "\n",
       "    .dataframe tbody tr th {\n",
       "        vertical-align: top;\n",
       "    }\n",
       "\n",
       "    .dataframe thead th {\n",
       "        text-align: right;\n",
       "    }\n",
       "</style>\n",
       "<table border=\"1\" class=\"dataframe\">\n",
       "  <thead>\n",
       "    <tr style=\"text-align: right;\">\n",
       "      <th></th>\n",
       "      <th>card_rem</th>\n",
       "      <th>ratio_Rrem</th>\n",
       "      <th>ratio_Arem</th>\n",
       "      <th>jaccard_RR</th>\n",
       "      <th>jaccard_RA</th>\n",
       "      <th>jaccard_AR</th>\n",
       "      <th>jaccard_AA</th>\n",
       "      <th>label</th>\n",
       "    </tr>\n",
       "  </thead>\n",
       "  <tbody>\n",
       "    <tr>\n",
       "      <th>count</th>\n",
       "      <td>95923.000000</td>\n",
       "      <td>95923.000000</td>\n",
       "      <td>95923.000000</td>\n",
       "      <td>95922.000000</td>\n",
       "      <td>95921.000000</td>\n",
       "      <td>95920.000000</td>\n",
       "      <td>95919.000000</td>\n",
       "      <td>95913.000000</td>\n",
       "    </tr>\n",
       "    <tr>\n",
       "      <th>mean</th>\n",
       "      <td>4.580498</td>\n",
       "      <td>135.255201</td>\n",
       "      <td>138.544211</td>\n",
       "      <td>0.005030</td>\n",
       "      <td>0.003787</td>\n",
       "      <td>0.003378</td>\n",
       "      <td>0.003661</td>\n",
       "      <td>0.499453</td>\n",
       "    </tr>\n",
       "    <tr>\n",
       "      <th>std</th>\n",
       "      <td>4.466073</td>\n",
       "      <td>160.988895</td>\n",
       "      <td>175.480485</td>\n",
       "      <td>0.311308</td>\n",
       "      <td>0.024815</td>\n",
       "      <td>0.024011</td>\n",
       "      <td>0.028492</td>\n",
       "      <td>0.500002</td>\n",
       "    </tr>\n",
       "    <tr>\n",
       "      <th>min</th>\n",
       "      <td>0.000000</td>\n",
       "      <td>0.000000</td>\n",
       "      <td>0.000000</td>\n",
       "      <td>0.000000</td>\n",
       "      <td>0.000000</td>\n",
       "      <td>0.000000</td>\n",
       "      <td>0.000000</td>\n",
       "      <td>0.000000</td>\n",
       "    </tr>\n",
       "    <tr>\n",
       "      <th>25%</th>\n",
       "      <td>2.000000</td>\n",
       "      <td>43.000000</td>\n",
       "      <td>39.666667</td>\n",
       "      <td>0.000000</td>\n",
       "      <td>0.000000</td>\n",
       "      <td>0.000000</td>\n",
       "      <td>0.000000</td>\n",
       "      <td>0.000000</td>\n",
       "    </tr>\n",
       "    <tr>\n",
       "      <th>50%</th>\n",
       "      <td>3.000000</td>\n",
       "      <td>104.000000</td>\n",
       "      <td>103.333333</td>\n",
       "      <td>0.000000</td>\n",
       "      <td>0.000000</td>\n",
       "      <td>0.000000</td>\n",
       "      <td>0.000000</td>\n",
       "      <td>0.000000</td>\n",
       "    </tr>\n",
       "    <tr>\n",
       "      <th>75%</th>\n",
       "      <td>6.000000</td>\n",
       "      <td>174.142857</td>\n",
       "      <td>178.292857</td>\n",
       "      <td>0.000000</td>\n",
       "      <td>0.000000</td>\n",
       "      <td>0.000000</td>\n",
       "      <td>0.000000</td>\n",
       "      <td>1.000000</td>\n",
       "    </tr>\n",
       "    <tr>\n",
       "      <th>max</th>\n",
       "      <td>187.333333</td>\n",
       "      <td>5507.000000</td>\n",
       "      <td>6097.000000</td>\n",
       "      <td>96.000000</td>\n",
       "      <td>1.000000</td>\n",
       "      <td>1.000000</td>\n",
       "      <td>1.000000</td>\n",
       "      <td>1.000000</td>\n",
       "    </tr>\n",
       "  </tbody>\n",
       "</table>\n",
       "</div>"
      ],
      "text/plain": [
       "           card_rem    ratio_Rrem    ratio_Arem    jaccard_RR    jaccard_RA  \\\n",
       "count  95923.000000  95923.000000  95923.000000  95922.000000  95921.000000   \n",
       "mean       4.580498    135.255201    138.544211      0.005030      0.003787   \n",
       "std        4.466073    160.988895    175.480485      0.311308      0.024815   \n",
       "min        0.000000      0.000000      0.000000      0.000000      0.000000   \n",
       "25%        2.000000     43.000000     39.666667      0.000000      0.000000   \n",
       "50%        3.000000    104.000000    103.333333      0.000000      0.000000   \n",
       "75%        6.000000    174.142857    178.292857      0.000000      0.000000   \n",
       "max      187.333333   5507.000000   6097.000000     96.000000      1.000000   \n",
       "\n",
       "         jaccard_AR    jaccard_AA         label  \n",
       "count  95920.000000  95919.000000  95913.000000  \n",
       "mean       0.003378      0.003661      0.499453  \n",
       "std        0.024011      0.028492      0.500002  \n",
       "min        0.000000      0.000000      0.000000  \n",
       "25%        0.000000      0.000000      0.000000  \n",
       "50%        0.000000      0.000000      0.000000  \n",
       "75%        0.000000      0.000000      1.000000  \n",
       "max        1.000000      1.000000      1.000000  "
      ]
     },
     "execution_count": 16,
     "metadata": {},
     "output_type": "execute_result"
    }
   ],
   "source": [
    "df.describe()"
   ]
  },
  {
   "cell_type": "code",
   "execution_count": 17,
   "id": "5e2276d5-4683-43f5-b2f7-b2cdd841d17d",
   "metadata": {},
   "outputs": [
    {
     "data": {
      "text/plain": [
       "'1.4.0'"
      ]
     },
     "execution_count": 17,
     "metadata": {},
     "output_type": "execute_result"
    }
   ],
   "source": [
    "pd.__version__"
   ]
  },
  {
   "cell_type": "markdown",
   "id": "17886ba6-deae-401d-a5a1-4d81d75d1fa4",
   "metadata": {},
   "source": [
    "## Grab just the domain and label"
   ]
  },
  {
   "cell_type": "code",
   "execution_count": 20,
   "id": "3b88e153-8d7c-442c-921b-beee15d3a547",
   "metadata": {},
   "outputs": [],
   "source": [
    "df = df[['domain', 'label']]"
   ]
  },
  {
   "cell_type": "markdown",
   "id": "901e1490-7c53-464e-a7ae-af185c25bfbb",
   "metadata": {
    "tags": []
   },
   "source": [
    "# Feature Engineering \n",
    "\n"
   ]
  },
  {
   "cell_type": "markdown",
   "id": "aec8d556-4165-4892-9974-385dd5102f85",
   "metadata": {},
   "source": [
    "## Clean the Data"
   ]
  },
  {
   "cell_type": "code",
   "execution_count": 24,
   "id": "002af562-8fe2-4c5d-a692-b11cae4002f6",
   "metadata": {},
   "outputs": [
    {
     "data": {
      "text/html": [
       "<div>\n",
       "<style scoped>\n",
       "    .dataframe tbody tr th:only-of-type {\n",
       "        vertical-align: middle;\n",
       "    }\n",
       "\n",
       "    .dataframe tbody tr th {\n",
       "        vertical-align: top;\n",
       "    }\n",
       "\n",
       "    .dataframe thead th {\n",
       "        text-align: right;\n",
       "    }\n",
       "</style>\n",
       "<table border=\"1\" class=\"dataframe\">\n",
       "  <thead>\n",
       "    <tr style=\"text-align: right;\">\n",
       "      <th></th>\n",
       "      <th>domain</th>\n",
       "      <th>label</th>\n",
       "      <th>domain_len</th>\n",
       "    </tr>\n",
       "  </thead>\n",
       "  <tbody>\n",
       "    <tr>\n",
       "      <th>18251</th>\n",
       "      <td>NaN</td>\n",
       "      <td>NaN</td>\n",
       "      <td>96003</td>\n",
       "    </tr>\n",
       "  </tbody>\n",
       "</table>\n",
       "</div>"
      ],
      "text/plain": [
       "      domain  label  domain_len\n",
       "18251    NaN    NaN       96003"
      ]
     },
     "execution_count": 24,
     "metadata": {},
     "output_type": "execute_result"
    }
   ],
   "source": [
    "## Which one of our domains is a float??\n",
    "\n",
    "df[df['domain'].apply(lambda x: isinstance(x,float))]"
   ]
  },
  {
   "cell_type": "code",
   "execution_count": 25,
   "id": "a5dbe273-55a8-4b86-8dec-ae7bbaeee5e4",
   "metadata": {},
   "outputs": [],
   "source": [
    "df = df.dropna()"
   ]
  },
  {
   "cell_type": "markdown",
   "id": "d04b717d-ada8-4260-a882-26b05a1fe07f",
   "metadata": {},
   "source": [
    "### Start with length of domain "
   ]
  },
  {
   "cell_type": "code",
   "execution_count": 26,
   "id": "370d2907-0b0a-4c65-80f3-1e278000b82a",
   "metadata": {},
   "outputs": [],
   "source": [
    "df['domain_len'] = df['domain'].apply(lambda x: len(x))"
   ]
  },
  {
   "cell_type": "code",
   "execution_count": 28,
   "id": "58374252-1e13-4c23-aa98-ae5d41f7737f",
   "metadata": {},
   "outputs": [
    {
     "data": {
      "text/html": [
       "<div>\n",
       "<style scoped>\n",
       "    .dataframe tbody tr th:only-of-type {\n",
       "        vertical-align: middle;\n",
       "    }\n",
       "\n",
       "    .dataframe tbody tr th {\n",
       "        vertical-align: top;\n",
       "    }\n",
       "\n",
       "    .dataframe thead th {\n",
       "        text-align: right;\n",
       "    }\n",
       "</style>\n",
       "<table border=\"1\" class=\"dataframe\">\n",
       "  <thead>\n",
       "    <tr style=\"text-align: right;\">\n",
       "      <th></th>\n",
       "      <th>domain</th>\n",
       "      <th>label</th>\n",
       "      <th>domain_len</th>\n",
       "    </tr>\n",
       "  </thead>\n",
       "  <tbody>\n",
       "    <tr>\n",
       "      <th>0</th>\n",
       "      <td>nobell.it/70ffb52d079109dca5664cce6f317373782/...</td>\n",
       "      <td>1.0</td>\n",
       "      <td>225</td>\n",
       "    </tr>\n",
       "    <tr>\n",
       "      <th>1</th>\n",
       "      <td>www.dghjdgf.com/paypal.co.uk/cycgi-bin/webscrc...</td>\n",
       "      <td>1.0</td>\n",
       "      <td>81</td>\n",
       "    </tr>\n",
       "    <tr>\n",
       "      <th>2</th>\n",
       "      <td>serviciosbys.com/paypal.cgi.bin.get-into.herf....</td>\n",
       "      <td>1.0</td>\n",
       "      <td>177</td>\n",
       "    </tr>\n",
       "    <tr>\n",
       "      <th>3</th>\n",
       "      <td>mail.printakid.com/www.online.americanexpress....</td>\n",
       "      <td>1.0</td>\n",
       "      <td>60</td>\n",
       "    </tr>\n",
       "    <tr>\n",
       "      <th>4</th>\n",
       "      <td>thewhiskeydregs.com/wp-content/themes/widescre...</td>\n",
       "      <td>1.0</td>\n",
       "      <td>116</td>\n",
       "    </tr>\n",
       "    <tr>\n",
       "      <th>...</th>\n",
       "      <td>...</td>\n",
       "      <td>...</td>\n",
       "      <td>...</td>\n",
       "    </tr>\n",
       "    <tr>\n",
       "      <th>95998</th>\n",
       "      <td>xbox360.ign.com/objects/850/850402.html</td>\n",
       "      <td>0.0</td>\n",
       "      <td>39</td>\n",
       "    </tr>\n",
       "    <tr>\n",
       "      <th>95999</th>\n",
       "      <td>games.teamxbox.com/xbox-360/1860/Dead-Space/</td>\n",
       "      <td>0.0</td>\n",
       "      <td>44</td>\n",
       "    </tr>\n",
       "    <tr>\n",
       "      <th>96000</th>\n",
       "      <td>www.gamespot.com/xbox360/action/deadspace/</td>\n",
       "      <td>0.0</td>\n",
       "      <td>42</td>\n",
       "    </tr>\n",
       "    <tr>\n",
       "      <th>96001</th>\n",
       "      <td>en.wikipedia.org/wiki/Dead_Space_(video_game)</td>\n",
       "      <td>0.0</td>\n",
       "      <td>45</td>\n",
       "    </tr>\n",
       "    <tr>\n",
       "      <th>96002</th>\n",
       "      <td>www.angelfire.com/goth/devilmaycrytonite/</td>\n",
       "      <td>0.0</td>\n",
       "      <td>41</td>\n",
       "    </tr>\n",
       "  </tbody>\n",
       "</table>\n",
       "<p>95913 rows × 3 columns</p>\n",
       "</div>"
      ],
      "text/plain": [
       "                                                  domain  label  domain_len\n",
       "0      nobell.it/70ffb52d079109dca5664cce6f317373782/...    1.0         225\n",
       "1      www.dghjdgf.com/paypal.co.uk/cycgi-bin/webscrc...    1.0          81\n",
       "2      serviciosbys.com/paypal.cgi.bin.get-into.herf....    1.0         177\n",
       "3      mail.printakid.com/www.online.americanexpress....    1.0          60\n",
       "4      thewhiskeydregs.com/wp-content/themes/widescre...    1.0         116\n",
       "...                                                  ...    ...         ...\n",
       "95998            xbox360.ign.com/objects/850/850402.html    0.0          39\n",
       "95999       games.teamxbox.com/xbox-360/1860/Dead-Space/    0.0          44\n",
       "96000         www.gamespot.com/xbox360/action/deadspace/    0.0          42\n",
       "96001      en.wikipedia.org/wiki/Dead_Space_(video_game)    0.0          45\n",
       "96002          www.angelfire.com/goth/devilmaycrytonite/    0.0          41\n",
       "\n",
       "[95913 rows x 3 columns]"
      ]
     },
     "execution_count": 28,
     "metadata": {},
     "output_type": "execute_result"
    }
   ],
   "source": [
    "df"
   ]
  },
  {
   "cell_type": "code",
   "execution_count": 31,
   "id": "eb2094dc-9f55-475d-8d97-357d0dec7f0e",
   "metadata": {},
   "outputs": [],
   "source": [
    "#build a tree model \n",
    "\n",
    "clf = tree.DecisionTreeClassifier()\n",
    "clf = clf.fit(df[['domain_len']], df['label'])"
   ]
  },
  {
   "cell_type": "code",
   "execution_count": 37,
   "id": "2e10679b-657e-43c0-a08d-5377bffa5111",
   "metadata": {},
   "outputs": [
    {
     "data": {
      "text/plain": [
       "array(['nobell.it/70ffb52d079109dca5664cce6f317373782/login.SkyPe.com/en/cgi-bin/verification/login/70ffb52d079109dca5664cce6f317373/index.php?cmd=_profile-ach&outdated_page_tmpl=p/gen/failed-to-load&nav=0.5.1&login_access=1322408526'],\n",
       "      dtype=object)"
      ]
     },
     "execution_count": 37,
     "metadata": {},
     "output_type": "execute_result"
    }
   ],
   "source": [
    "df[['domain']].iloc[0].values"
   ]
  },
  {
   "cell_type": "code",
   "execution_count": 43,
   "id": "51bd2e3e-3508-4e6c-be54-00a64477c76a",
   "metadata": {},
   "outputs": [
    {
     "data": {
      "text/plain": [
       "[225]"
      ]
     },
     "execution_count": 43,
     "metadata": {},
     "output_type": "execute_result"
    }
   ],
   "source": [
    "df[['domain_len']].iloc[0].values.tolist()"
   ]
  },
  {
   "cell_type": "code",
   "execution_count": 34,
   "id": "ab760116-ef3e-4b64-b75c-133076616107",
   "metadata": {},
   "outputs": [
    {
     "name": "stderr",
     "output_type": "stream",
     "text": [
      "/opt/conda/lib/python3.9/site-packages/sklearn/base.py:450: UserWarning: X does not have valid feature names, but DecisionTreeClassifier was fitted with feature names\n",
      "  warnings.warn(\n"
     ]
    },
    {
     "data": {
      "text/plain": [
       "array([1.])"
      ]
     },
     "execution_count": 34,
     "metadata": {},
     "output_type": "execute_result"
    }
   ],
   "source": [
    "clf.predict([df[['domain_len']].iloc[0]])"
   ]
  },
  {
   "cell_type": "code",
   "execution_count": 39,
   "id": "f85ca16f-8167-43c4-bac9-15225908f478",
   "metadata": {},
   "outputs": [
    {
     "name": "stderr",
     "output_type": "stream",
     "text": [
      "/opt/conda/lib/python3.9/site-packages/sklearn/base.py:450: UserWarning: X does not have valid feature names, but DecisionTreeClassifier was fitted with feature names\n",
      "  warnings.warn(\n"
     ]
    },
    {
     "data": {
      "text/plain": [
       "array([1.])"
      ]
     },
     "execution_count": 39,
     "metadata": {},
     "output_type": "execute_result"
    }
   ],
   "source": [
    "#can also directly pass the value of domain length\n",
    "#needs to be in doulbe [] due to being treated as a two-dimensional array\n",
    "\n",
    "clf.predict([[225]])"
   ]
  },
  {
   "cell_type": "code",
   "execution_count": 42,
   "id": "c3695f16-a82e-4c02-8f79-287035b26507",
   "metadata": {},
   "outputs": [
    {
     "data": {
      "text/html": [
       "\n",
       "    <style>\n",
       "    table.eli5-weights tr:hover {\n",
       "        filter: brightness(85%);\n",
       "    }\n",
       "</style>\n",
       "\n",
       "\n",
       "\n",
       "    \n",
       "\n",
       "    \n",
       "\n",
       "    \n",
       "\n",
       "    \n",
       "\n",
       "    \n",
       "\n",
       "    \n",
       "\n",
       "\n",
       "    \n",
       "\n",
       "    \n",
       "\n",
       "    \n",
       "\n",
       "    \n",
       "        \n",
       "\n",
       "    \n",
       "\n",
       "        \n",
       "            \n",
       "                \n",
       "                \n",
       "    \n",
       "        <p style=\"margin-bottom: 0.5em; margin-top: 0em\">\n",
       "            <b>\n",
       "    \n",
       "        y=1.0\n",
       "    \n",
       "</b>\n",
       "\n",
       "    \n",
       "    (probability <b>1.000</b>)\n",
       "\n",
       "top features\n",
       "        </p>\n",
       "    \n",
       "    <table class=\"eli5-weights\"\n",
       "           style=\"border-collapse: collapse; border: none; margin-top: 0em; table-layout: auto; margin-bottom: 2em;\">\n",
       "        <thead>\n",
       "        <tr style=\"border: none;\">\n",
       "            \n",
       "                <th style=\"padding: 0 1em 0 0.5em; text-align: right; border: none;\" title=\"Feature contribution already accounts for the feature value (for linear models, contribution = weight * feature value), and the sum of feature contributions is equal to the score or, for some classifiers, to the probability. Feature values are shown if &quot;show_feature_values&quot; is True.\">\n",
       "                    Contribution<sup>?</sup>\n",
       "                </th>\n",
       "            \n",
       "            <th style=\"padding: 0 0.5em 0 0.5em; text-align: left; border: none;\">Feature</th>\n",
       "            \n",
       "        </tr>\n",
       "        </thead>\n",
       "        <tbody>\n",
       "        \n",
       "            <tr style=\"background-color: hsl(120, 100.00%, 80.00%); border: none;\">\n",
       "    <td style=\"padding: 0 1em 0 0.5em; text-align: right; border: none;\">\n",
       "        +0.501\n",
       "    </td>\n",
       "    <td style=\"padding: 0 0.5em 0 0.5em; text-align: left; border: none;\">\n",
       "        domain_len\n",
       "    </td>\n",
       "    \n",
       "</tr>\n",
       "        \n",
       "            <tr style=\"background-color: hsl(120, 100.00%, 80.03%); border: none;\">\n",
       "    <td style=\"padding: 0 1em 0 0.5em; text-align: right; border: none;\">\n",
       "        +0.499\n",
       "    </td>\n",
       "    <td style=\"padding: 0 0.5em 0 0.5em; text-align: left; border: none;\">\n",
       "        &lt;BIAS&gt;\n",
       "    </td>\n",
       "    \n",
       "</tr>\n",
       "        \n",
       "        \n",
       "\n",
       "        \n",
       "        \n",
       "\n",
       "        </tbody>\n",
       "    </table>\n",
       "\n",
       "            \n",
       "        \n",
       "\n",
       "        \n",
       "\n",
       "\n",
       "\n",
       "    \n",
       "\n",
       "    \n",
       "\n",
       "    \n",
       "\n",
       "    \n",
       "\n",
       "\n",
       "    \n",
       "\n",
       "    \n",
       "\n",
       "    \n",
       "\n",
       "    \n",
       "\n",
       "    \n",
       "\n",
       "    \n",
       "\n",
       "\n",
       "    \n",
       "\n",
       "    \n",
       "\n",
       "    \n",
       "\n",
       "    \n",
       "\n",
       "    \n",
       "\n",
       "    \n",
       "\n",
       "\n",
       "\n"
      ],
      "text/plain": [
       "Explanation(estimator='DecisionTreeClassifier()', description='\\nFeatures with largest coefficients.\\n\\nFeature weights are calculated by following decision paths in trees\\nof an ensemble (or a single tree for DecisionTreeClassifier).\\nEach node of the tree has an output score, and contribution of a feature\\non the decision path is how much the score changes from parent to child.\\nWeights of all features sum to the output score or proba of the estimator.\\n\\nCaveats:\\n1. Feature weights just show if the feature contributed positively or\\n   negatively to the final score, and does not show how increasing or\\n   decreasing the feature value will change the prediction.\\n2. In some cases, feature weight can be close to zero for an important feature.\\n   For example, in a single tree that computes XOR function, the feature at the\\n   top of the tree will have zero weight because expected scores for both\\n   branches are equal, so decision at the top feature does not change the\\n   expected score. For an ensemble predicting XOR functions it might not be\\n   a problem, but it is not reliable if most trees happen to choose the same\\n   feature at the top.\\n', error=None, method='decision path', is_regression=False, targets=[TargetExplanation(target=1.0, feature_weights=FeatureWeights(pos=[FeatureWeight(feature='domain_len', weight=0.5005473710550186, std=None, value=225.0), FeatureWeight(feature='<BIAS>', weight=0.4994526289449814, std=None, value=1.0)], neg=[], pos_remaining=0, neg_remaining=0), proba=1.0, score=None, weighted_spans=None, heatmap=None)], feature_importances=None, decision_tree=None, highlight_spaces=None, transition_features=None, image=None)"
      ]
     },
     "execution_count": 42,
     "metadata": {},
     "output_type": "execute_result"
    }
   ],
   "source": [
    "eli5.explain_prediction(clf, df[['domain_len']].iloc[0])"
   ]
  },
  {
   "cell_type": "code",
   "execution_count": null,
   "id": "72dc6c31-1760-4aa6-803e-b2139a92d3bd",
   "metadata": {},
   "outputs": [],
   "source": []
  },
  {
   "cell_type": "code",
   "execution_count": null,
   "id": "49c3cc13-4f0a-4fd2-8e9d-08bb00ee01da",
   "metadata": {},
   "outputs": [],
   "source": []
  },
  {
   "cell_type": "code",
   "execution_count": null,
   "id": "1c0f34b1-d31b-4493-a635-018b6a12c4af",
   "metadata": {},
   "outputs": [],
   "source": []
  },
  {
   "cell_type": "code",
   "execution_count": null,
   "id": "1facd311-af2e-43b9-94a4-975f848ef119",
   "metadata": {},
   "outputs": [],
   "source": []
  }
 ],
 "metadata": {
  "kernelspec": {
   "display_name": "Python 3 (ipykernel)",
   "language": "python",
   "name": "python3"
  },
  "language_info": {
   "codemirror_mode": {
    "name": "ipython",
    "version": 3
   },
   "file_extension": ".py",
   "mimetype": "text/x-python",
   "name": "python",
   "nbconvert_exporter": "python",
   "pygments_lexer": "ipython3",
   "version": "3.9.7"
  }
 },
 "nbformat": 4,
 "nbformat_minor": 5
}
